{
 "cells": [
  {
   "cell_type": "code",
   "execution_count": 13,
   "metadata": {},
   "outputs": [],
   "source": [
    "import torch\n",
    "import torch.nn.functional as F\n",
    "import matplotlib.pyplot as plt # for making figures\n",
    "%matplotlib inline"
   ]
  },
  {
   "cell_type": "code",
   "execution_count": 14,
   "metadata": {},
   "outputs": [
    {
     "data": {
      "text/plain": [
       "['emma', 'olivia', 'ava', 'isabella', 'sophia', 'charlotte', 'mia', 'amelia']"
      ]
     },
     "execution_count": 14,
     "metadata": {},
     "output_type": "execute_result"
    }
   ],
   "source": [
    "# read in all the words\n",
    "words = open('names.txt', 'r').read().splitlines()\n",
    "words[:8]"
   ]
  },
  {
   "cell_type": "code",
   "execution_count": 15,
   "metadata": {},
   "outputs": [
    {
     "data": {
      "text/plain": [
       "32033"
      ]
     },
     "execution_count": 15,
     "metadata": {},
     "output_type": "execute_result"
    }
   ],
   "source": [
    "len(words)"
   ]
  },
  {
   "cell_type": "code",
   "execution_count": 16,
   "metadata": {},
   "outputs": [
    {
     "name": "stdout",
     "output_type": "stream",
     "text": [
      "{1: 'a', 2: 'b', 3: 'c', 4: 'd', 5: 'e', 6: 'f', 7: 'g', 8: 'h', 9: 'i', 10: 'j', 11: 'k', 12: 'l', 13: 'm', 14: 'n', 15: 'o', 16: 'p', 17: 'q', 18: 'r', 19: 's', 20: 't', 21: 'u', 22: 'v', 23: 'w', 24: 'x', 25: 'y', 26: 'z', 0: '.'}\n",
      "27\n"
     ]
    }
   ],
   "source": [
    "# build the vocabulary of characters and mappings to/from integers\n",
    "chars = sorted(list(set(''.join(words))))\n",
    "stoi = {s:i+1 for i,s in enumerate(chars)}\n",
    "stoi['.'] = 0\n",
    "itos = {i:s for s,i in stoi.items()}\n",
    "vocab_size = len(itos)\n",
    "print(itos)\n",
    "print(vocab_size)"
   ]
  },
  {
   "cell_type": "code",
   "execution_count": 17,
   "metadata": {},
   "outputs": [
    {
     "name": "stdout",
     "output_type": "stream",
     "text": [
      "torch.Size([182625, 3]) torch.Size([182625])\n",
      "torch.Size([22655, 3]) torch.Size([22655])\n",
      "torch.Size([22866, 3]) torch.Size([22866])\n"
     ]
    }
   ],
   "source": [
    "# build the dataset\n",
    "block_size = 3 # context length: how many characters do we take to predict the next one?\n",
    "\n",
    "def build_dataset(words):  \n",
    "  X, Y = [], []\n",
    "  \n",
    "  for w in words:\n",
    "    context = [0] * block_size\n",
    "    for ch in w + '.':\n",
    "      ix = stoi[ch]\n",
    "      X.append(context)\n",
    "      Y.append(ix)\n",
    "      context = context[1:] + [ix] # crop and append\n",
    "\n",
    "  X = torch.tensor(X)\n",
    "  Y = torch.tensor(Y)\n",
    "  print(X.shape, Y.shape)\n",
    "  return X, Y\n",
    "\n",
    "import random\n",
    "random.seed(42)\n",
    "random.shuffle(words)\n",
    "n1 = int(0.8*len(words))\n",
    "n2 = int(0.9*len(words))\n",
    "\n",
    "Xtr,  Ytr  = build_dataset(words[:n1])     # 80%\n",
    "Xdev, Ydev = build_dataset(words[n1:n2])   # 10%\n",
    "Xte,  Yte  = build_dataset(words[n2:])     # 10%"
   ]
  },
  {
   "cell_type": "code",
   "execution_count": 31,
   "metadata": {},
   "outputs": [
    {
     "name": "stdout",
     "output_type": "stream",
     "text": [
      "12097\n"
     ]
    }
   ],
   "source": [
    "# MLP revisited\n",
    "n_embd = 10 # the dimensionality of the character embedding vectors\n",
    "n_hidden = 200 # the number of neurons in the hidden layer of the MLP\n",
    "\n",
    "g = torch.Generator().manual_seed(2147483647) # for reproducibility\n",
    "C  = torch.randn((vocab_size, n_embd),            generator=g)\n",
    "W1 = torch.randn((n_embd * block_size, n_hidden), generator=g) * (5/3) * ((n_embd * block_size)** 0.5) # for tanh 5/3 is the gain we need to use\n",
    "# b1 = torch.randn(n_hidden,                        generator=g) * 0.01\n",
    "W2 = torch.randn((n_hidden, vocab_size),          generator=g) * 0.01\n",
    "b2 = torch.randn(vocab_size,                      generator=g) * 0\n",
    "\n",
    "bngain = torch.ones((1, n_hidden))\n",
    "bnbias = torch.zeros((1, n_hidden))\n",
    "bnmean_running = torch.zeros((1, n_hidden))\n",
    "bnstd_running = torch.ones((1, n_hidden))\n",
    "parameters = [C, W1, W2, b2, bngain, bnbias]\n",
    "print(sum(p.nelement() for p in parameters)) # number of parameters in total\n",
    "for p in parameters:\n",
    "  p.requires_grad = True"
   ]
  },
  {
   "cell_type": "code",
   "execution_count": 32,
   "metadata": {},
   "outputs": [
    {
     "name": "stdout",
     "output_type": "stream",
     "text": [
      "      0/ 200000: 3.3239\n",
      "  10000/ 200000: 2.1080\n",
      "  20000/ 200000: 2.7056\n",
      "  30000/ 200000: 2.1581\n",
      "  40000/ 200000: 2.3510\n",
      "  50000/ 200000: 1.9673\n",
      "  60000/ 200000: 2.2058\n",
      "  70000/ 200000: 2.4311\n",
      "  80000/ 200000: 2.6161\n",
      "  90000/ 200000: 2.2592\n",
      " 100000/ 200000: 2.3973\n",
      " 110000/ 200000: 2.4511\n",
      " 120000/ 200000: 1.7488\n",
      " 130000/ 200000: 2.1158\n",
      " 140000/ 200000: 2.4020\n",
      " 150000/ 200000: 2.1161\n",
      " 160000/ 200000: 2.0824\n",
      " 170000/ 200000: 2.3950\n",
      " 180000/ 200000: 2.1838\n",
      " 190000/ 200000: 2.1770\n"
     ]
    }
   ],
   "source": [
    "# same optimization as last time\n",
    "max_steps = 200000\n",
    "batch_size = 32\n",
    "lossi = []\n",
    "\n",
    "for i in range(max_steps):\n",
    "  \n",
    "  # minibatch construct\n",
    "  ix = torch.randint(0, Xtr.shape[0], (batch_size,), generator=g)\n",
    "  Xb, Yb = Xtr[ix], Ytr[ix] # batch X,Y\n",
    "  \n",
    "  # forward pass\n",
    "  emb = C[Xb] # embed the characters into vectors\n",
    "  embcat = emb.view(emb.shape[0], -1) # concatenate the vectors\n",
    "  hpreact = embcat @ W1 # + b1  hidden layer pre-activation\n",
    "  bnmeani = hpreact.mean(0, keepdim=True)\n",
    "  bnstdi =  hpreact.std(0, keepdim=True)\n",
    "  hpreact = bngain * (hpreact - bnmeani) / bnstdi + bnbias\n",
    "\n",
    "  with torch.no_grad():\n",
    "    bnmean_running = 0.999 * bnmean_running + 0.001 * bnmeani \n",
    "    bnstd_running = 0.999 * bnstd_running + 0.001 * bnstdi\n",
    "\n",
    "  h = torch.tanh(hpreact) # hidden layer\n",
    "  logits = h @ W2 + b2 # output layer\n",
    "  loss = F.cross_entropy(logits, Yb) # loss function\n",
    "  \n",
    "  # backward pass\n",
    "  for p in parameters:\n",
    "    p.grad = None\n",
    "  loss.backward()\n",
    "  \n",
    "  # update\n",
    "  lr = 0.1 if i < 100000 else 0.01 # step learning rate decay\n",
    "  for p in parameters:\n",
    "    p.data += -lr * p.grad\n",
    "\n",
    "  # track stats\n",
    "  if i % 10000 == 0: # print every once in a while\n",
    "    print(f'{i:7d}/{max_steps:7d}: {loss.item():.4f}')\n",
    "  lossi.append(loss.log10().item())"
   ]
  },
  {
   "cell_type": "markdown",
   "metadata": {},
   "source": [
    "### To understand why scaling W1 and b1 gives you a “hockey stick” graph while scaling W2 and b2 does not, let’s dive deeper into the role of these layers in your neural network and how their initializations affect training.\n",
    "\n",
    "### Key Differences\n",
    "\n",
    "\t1.\tRole of Layers:\n",
    "\t•\tW1 and b1: These are the weights and biases for the first (hidden) layer of the MLP (Multi-Layer Perceptron).\n",
    "\t•\tW2 and b2: These are the weights and biases for the output layer of the MLP.\n",
    "\t2.\tImpact of Initialization:\n",
    "\t•\tSmall Weights for W1 and b1:\n",
    "\t•\tInitial Signal Strength: If W1 is very small, the initial signals (hidden activations) passing through the first layer will be very weak. This causes the gradients during backpropagation to be small, leading to very slow learning initially. This results in high loss that doesn’t decrease significantly at first, creating the “handle” of the hockey stick.\n",
    "\t•\tGradual Learning: As training progresses, the weights gradually adjust, eventually leading to a significant drop in loss, creating the “blade” of the hockey stick.\n",
    "\t•\tSmall Weights for W2 and b2:\n",
    "\t•\tOutput Layer Initialization: The impact of small initial weights in the output layer is less dramatic compared to the hidden layer. The hidden layer activations (output of the first layer) are already processed features, and the final adjustments in the output layer can more quickly correct the initial output to match the target.\n",
    "\t•\tSmoother Learning Curve: The overall learning is smoother because the hidden layer is already providing useful features, even if the final layer’s adjustments start small.\n",
    "\n",
    "#### Why Scaling W1 and b1 Creates a Hockey Stick Graph\n",
    "\n",
    "\t•\tSmall Gradient Flow: Small initial weights in W1 result in small gradients during the backward pass. This slow gradient flow means the model learns very slowly at first, leading to a high and stable initial loss.\n",
    "\t•\tDelayed Improvement: Once the gradients start to make a noticeable impact (after many iterations), the loss begins to drop significantly, creating the sharp decline characteristic of a hockey stick graph.\n",
    "\n",
    "#### Why Scaling W2 and b2 Does Not Create a Hockey Stick Graph\n",
    "\n",
    "\t•\tLess Impact on Gradient Flow: Small initial weights in W2 do not significantly hinder the gradient flow as much because the hidden layer is already providing a rich set of features. The model can still learn effectively from the beginning.\n",
    "\t•\tSteady Learning: The output layer’s small initial weights do not cause as significant a delay in learning, leading to a smoother, more consistent decline in loss."
   ]
  },
  {
   "cell_type": "code",
   "execution_count": 33,
   "metadata": {},
   "outputs": [
    {
     "data": {
      "image/png": "[encoded data removed]",
      "text/plain": [
       "<Figure size 640x480 with 1 Axes>"
      ]
     },
     "metadata": {},
     "output_type": "display_data"
    }
   ],
   "source": [
    "plt.plot(lossi)\n",
    "plt.title('Loss over time')\n",
    "plt.xlabel('Iteration')\n",
    "plt.ylabel('Log10(Loss)')\n",
    "plt.show()"
   ]
  },
  {
   "cell_type": "code",
   "execution_count": 34,
   "metadata": {},
   "outputs": [],
   "source": [
    "# calibrate the batch norm at the end of training\n",
    "\n",
    "with torch.no_grad():\n",
    "    #pass the training set through\n",
    "    emb = C[Xtr]\n",
    "    hpreact = emb.view(emb.shape[0], -1)\n",
    "    hpreact = embcat @ W1 # + b1\n",
    "    # measure the mean/std over the entire training set\n",
    "    bnmean = hpreact.mean(0, keepdim=True)\n",
    "    bnstd = hpreact.std(0, keepdim=True)"
   ]
  },
  {
   "cell_type": "code",
   "execution_count": 35,
   "metadata": {},
   "outputs": [
    {
     "name": "stdout",
     "output_type": "stream",
     "text": [
      "train 2.1734328269958496\n",
      "val 2.187385082244873\n"
     ]
    }
   ],
   "source": [
    "@torch.no_grad() # this decorator disables gradient tracking\n",
    "def split_loss(split):\n",
    "  x,y = {\n",
    "    'train': (Xtr, Ytr),\n",
    "    'val': (Xdev, Ydev),\n",
    "    'test': (Xte, Yte),\n",
    "  }[split]\n",
    "  emb = C[x] # (N, block_size, n_embd)\n",
    "  embcat = emb.view(emb.shape[0], -1) # concat into (N, block_size * n_embd)\n",
    "  hpreact = embcat @ W1 # + b1\n",
    "  # hpreact = bngain * (hpreact - hpreact.mean(0, keepdim=True)) / hpreact.std(0, keepdim=True) + bnbias\n",
    "  hpreact = bngain * (hpreact - bnmean_running) / bnstd_running + bnbias\n",
    "  h = torch.tanh(hpreact)  # (N, n,hidden)\n",
    "  logits = h @ W2 + b2 # (N, vocab_size)\n",
    "  loss = F.cross_entropy(logits, y)\n",
    "  print(split, loss.item())\n",
    "\n",
    "split_loss('train')\n",
    "split_loss('val')"
   ]
  },
  {
   "cell_type": "code",
   "execution_count": 36,
   "metadata": {},
   "outputs": [
    {
     "name": "stdout",
     "output_type": "stream",
     "text": [
      "narmavelle.\n",
      "hmvltrimmremleth.\n",
      "hbrekk.\n",
      "ljmrreth.\n",
      "brjyvict.\n",
      "ronixoh.\n",
      "muk.\n",
      "jahni.\n",
      "bouxlukkphnn.\n",
      "hbrwxiqwinnishoxlex.\n",
      "janzikh.\n",
      "jexlukkarbstxreth.\n",
      "phrrdchrm.\n",
      "zaxlakgrleshhwri.\n",
      "hamarmide.\n",
      "hushadsubbox.\n",
      "zir.\n",
      "joznngrian.\n",
      "rhben.\n",
      "kummnduxwentler.\n"
     ]
    }
   ],
   "source": [
    "# sample from the model\n",
    "g = torch.Generator().manual_seed(2147483647 + 10)\n",
    "\n",
    "for _ in range(20):\n",
    "    out = []\n",
    "    context = [0] * block_size # initialize with all ...\n",
    "    while True:\n",
    "        # forward pass the neural net\n",
    "        emb = C[torch.tensor([context])]\n",
    "        h = torch.tanh(emb.view(1, -1) @ W1 + b1)\n",
    "        logits = h @ W2 + b2\n",
    "        probs = F.softmax(logits, dim=1)\n",
    "        # sample from the distribution\n",
    "        ix = torch.multinomial(probs, num_samples=1, generator=g).item()\n",
    "        #shift the context window and track the samples\n",
    "        context = context[1:] + [ix]\n",
    "        out.append(ix)\n",
    "        if ix == 0:\n",
    "            break\n",
    "    print(''.join(itos[i] for i in out))"
   ]
  },
  {
   "cell_type": "code",
   "execution_count": 37,
   "metadata": {},
   "outputs": [
    {
     "data": {
      "text/plain": [
       "tensor([[-1.0000, -0.9999,  1.0000,  1.0000,  1.0000, -1.0000,  1.0000, -1.0000,\n",
       "          1.0000,  1.0000, -1.0000, -1.0000, -1.0000,  1.0000, -1.0000, -1.0000,\n",
       "         -1.0000, -1.0000, -1.0000,  1.0000, -1.0000, -1.0000,  1.0000,  1.0000,\n",
       "         -0.1627, -0.9639, -1.0000, -1.0000, -1.0000, -1.0000, -1.0000, -1.0000,\n",
       "          1.0000,  1.0000, -1.0000, -1.0000,  1.0000,  1.0000, -0.1244,  1.0000,\n",
       "         -1.0000, -1.0000, -1.0000, -1.0000,  1.0000,  1.0000, -1.0000,  1.0000,\n",
       "         -0.9896, -1.0000, -1.0000,  1.0000,  1.0000, -1.0000, -1.0000, -1.0000,\n",
       "         -1.0000,  1.0000,  1.0000, -1.0000, -1.0000,  1.0000, -1.0000, -1.0000,\n",
       "         -1.0000, -1.0000,  1.0000,  1.0000,  1.0000, -1.0000, -0.9999,  1.0000,\n",
       "         -1.0000, -1.0000,  1.0000,  1.0000,  1.0000,  1.0000,  1.0000,  1.0000,\n",
       "          1.0000,  1.0000, -1.0000,  1.0000,  1.0000, -1.0000, -1.0000, -1.0000,\n",
       "          1.0000,  1.0000, -0.4620,  1.0000, -1.0000, -1.0000, -1.0000, -1.0000,\n",
       "         -1.0000, -1.0000,  1.0000, -1.0000, -1.0000,  0.9973, -1.0000, -1.0000,\n",
       "          1.0000,  1.0000, -1.0000, -1.0000,  1.0000, -1.0000,  1.0000,  1.0000,\n",
       "         -1.0000,  1.0000, -1.0000, -1.0000,  1.0000,  1.0000,  1.0000, -1.0000,\n",
       "          1.0000, -0.9772,  1.0000, -1.0000,  1.0000,  1.0000, -1.0000,  1.0000,\n",
       "         -1.0000, -1.0000,  1.0000, -1.0000, -1.0000,  1.0000,  1.0000,  0.9780,\n",
       "         -1.0000, -1.0000,  1.0000,  1.0000, -1.0000, -1.0000,  1.0000,  1.0000,\n",
       "         -1.0000, -1.0000, -1.0000, -0.9828,  1.0000,  1.0000,  1.0000,  1.0000,\n",
       "          1.0000,  1.0000, -1.0000, -1.0000, -1.0000, -1.0000,  1.0000,  1.0000,\n",
       "          1.0000,  1.0000,  1.0000, -1.0000, -1.0000,  1.0000,  1.0000,  1.0000,\n",
       "         -1.0000, -1.0000, -1.0000, -1.0000, -1.0000,  1.0000,  1.0000,  1.0000,\n",
       "          1.0000,  1.0000,  1.0000, -1.0000, -1.0000,  1.0000,  0.9960,  1.0000,\n",
       "         -1.0000,  1.0000,  1.0000, -1.0000,  1.0000, -1.0000,  1.0000, -1.0000,\n",
       "         -1.0000,  1.0000,  1.0000,  1.0000, -1.0000,  1.0000, -1.0000,  1.0000]],\n",
       "       grad_fn=<TanhBackward0>)"
      ]
     },
     "execution_count": 37,
     "metadata": {},
     "output_type": "execute_result"
    }
   ],
   "source": [
    "h"
   ]
  },
  {
   "cell_type": "code",
   "execution_count": 38,
   "metadata": {},
   "outputs": [
    {
     "data": {
      "text/plain": [
       "tensor([-1.0000, -0.9999,  1.0000,  1.0000,  1.0000, -1.0000,  1.0000, -1.0000,\n",
       "         1.0000,  1.0000, -1.0000, -1.0000, -1.0000,  1.0000, -1.0000, -1.0000,\n",
       "        -1.0000, -1.0000, -1.0000,  1.0000, -1.0000, -1.0000,  1.0000,  1.0000,\n",
       "        -0.1627, -0.9639, -1.0000, -1.0000, -1.0000, -1.0000, -1.0000, -1.0000,\n",
       "         1.0000,  1.0000, -1.0000, -1.0000,  1.0000,  1.0000, -0.1244,  1.0000,\n",
       "        -1.0000, -1.0000, -1.0000, -1.0000,  1.0000,  1.0000, -1.0000,  1.0000,\n",
       "        -0.9896, -1.0000, -1.0000,  1.0000,  1.0000, -1.0000, -1.0000, -1.0000,\n",
       "        -1.0000,  1.0000,  1.0000, -1.0000, -1.0000,  1.0000, -1.0000, -1.0000,\n",
       "        -1.0000, -1.0000,  1.0000,  1.0000,  1.0000, -1.0000, -0.9999,  1.0000,\n",
       "        -1.0000, -1.0000,  1.0000,  1.0000,  1.0000,  1.0000,  1.0000,  1.0000,\n",
       "         1.0000,  1.0000, -1.0000,  1.0000,  1.0000, -1.0000, -1.0000, -1.0000,\n",
       "         1.0000,  1.0000, -0.4620,  1.0000, -1.0000, -1.0000, -1.0000, -1.0000,\n",
       "        -1.0000, -1.0000,  1.0000, -1.0000, -1.0000,  0.9973, -1.0000, -1.0000,\n",
       "         1.0000,  1.0000, -1.0000, -1.0000,  1.0000, -1.0000,  1.0000,  1.0000,\n",
       "        -1.0000,  1.0000, -1.0000, -1.0000,  1.0000,  1.0000,  1.0000, -1.0000,\n",
       "         1.0000, -0.9772,  1.0000, -1.0000,  1.0000,  1.0000, -1.0000,  1.0000,\n",
       "        -1.0000, -1.0000,  1.0000, -1.0000, -1.0000,  1.0000,  1.0000,  0.9780,\n",
       "        -1.0000, -1.0000,  1.0000,  1.0000, -1.0000, -1.0000,  1.0000,  1.0000,\n",
       "        -1.0000, -1.0000, -1.0000, -0.9828,  1.0000,  1.0000,  1.0000,  1.0000,\n",
       "         1.0000,  1.0000, -1.0000, -1.0000, -1.0000, -1.0000,  1.0000,  1.0000,\n",
       "         1.0000,  1.0000,  1.0000, -1.0000, -1.0000,  1.0000,  1.0000,  1.0000,\n",
       "        -1.0000, -1.0000, -1.0000, -1.0000, -1.0000,  1.0000,  1.0000,  1.0000,\n",
       "         1.0000,  1.0000,  1.0000, -1.0000, -1.0000,  1.0000,  0.9960,  1.0000,\n",
       "        -1.0000,  1.0000,  1.0000, -1.0000,  1.0000, -1.0000,  1.0000, -1.0000,\n",
       "        -1.0000,  1.0000,  1.0000,  1.0000, -1.0000,  1.0000, -1.0000,  1.0000],\n",
       "       grad_fn=<ViewBackward0>)"
      ]
     },
     "execution_count": 38,
     "metadata": {},
     "output_type": "execute_result"
    }
   ],
   "source": [
    "h.view(-1)"
   ]
  },
  {
   "cell_type": "code",
   "execution_count": 39,
   "metadata": {},
   "outputs": [
    {
     "data": {
      "text/plain": [
       "[-1.0,\n",
       " -0.9999452829360962,\n",
       " 1.0,\n",
       " 1.0,\n",
       " 1.0,\n",
       " -1.0,\n",
       " 1.0,\n",
       " -1.0,\n",
       " 1.0,\n",
       " 1.0,\n",
       " -1.0,\n",
       " -1.0,\n",
       " -1.0,\n",
       " 1.0,\n",
       " -1.0,\n",
       " -1.0,\n",
       " -0.9999955892562866,\n",
       " -1.0,\n",
       " -1.0,\n",
       " 1.0,\n",
       " -1.0,\n",
       " -1.0,\n",
       " 1.0,\n",
       " 1.0,\n",
       " -0.16267099976539612,\n",
       " -0.9639084935188293,\n",
       " -1.0,\n",
       " -1.0,\n",
       " -1.0,\n",
       " -1.0,\n",
       " -1.0,\n",
       " -1.0,\n",
       " 1.0,\n",
       " 1.0,\n",
       " -1.0,\n",
       " -1.0,\n",
       " 1.0,\n",
       " 0.9999736547470093,\n",
       " -0.1243525892496109,\n",
       " 1.0,\n",
       " -1.0,\n",
       " -0.9999998211860657,\n",
       " -1.0,\n",
       " -1.0,\n",
       " 1.0,\n",
       " 1.0,\n",
       " -1.0,\n",
       " 1.0,\n",
       " -0.9895704984664917,\n",
       " -1.0,\n",
       " -1.0,\n",
       " 1.0,\n",
       " 0.9999951124191284,\n",
       " -1.0,\n",
       " -1.0,\n",
       " -1.0,\n",
       " -1.0,\n",
       " 1.0,\n",
       " 1.0,\n",
       " -1.0,\n",
       " -1.0,\n",
       " 1.0,\n",
       " -1.0,\n",
       " -1.0,\n",
       " -1.0,\n",
       " -1.0,\n",
       " 1.0,\n",
       " 1.0,\n",
       " 1.0,\n",
       " -1.0,\n",
       " -0.9998921155929565,\n",
       " 1.0,\n",
       " -1.0,\n",
       " -1.0,\n",
       " 0.9999876618385315,\n",
       " 1.0,\n",
       " 1.0,\n",
       " 1.0,\n",
       " 1.0,\n",
       " 1.0,\n",
       " 1.0,\n",
       " 1.0,\n",
       " -1.0,\n",
       " 1.0,\n",
       " 1.0,\n",
       " -1.0,\n",
       " -0.9999995827674866,\n",
       " -1.0,\n",
       " 1.0,\n",
       " 1.0,\n",
       " -0.4620041847229004,\n",
       " 1.0,\n",
       " -1.0,\n",
       " -1.0,\n",
       " -1.0,\n",
       " -1.0,\n",
       " -1.0,\n",
       " -1.0,\n",
       " 0.9999938011169434,\n",
       " -1.0,\n",
       " -1.0,\n",
       " 0.9972714781761169,\n",
       " -1.0,\n",
       " -1.0,\n",
       " 1.0,\n",
       " 1.0,\n",
       " -1.0,\n",
       " -1.0,\n",
       " 1.0,\n",
       " -1.0,\n",
       " 1.0,\n",
       " 1.0,\n",
       " -1.0,\n",
       " 1.0,\n",
       " -1.0,\n",
       " -1.0,\n",
       " 0.9999951720237732,\n",
       " 1.0,\n",
       " 1.0,\n",
       " -1.0,\n",
       " 1.0,\n",
       " -0.9772040843963623,\n",
       " 1.0,\n",
       " -0.9999732375144958,\n",
       " 1.0,\n",
       " 1.0,\n",
       " -1.0,\n",
       " 1.0,\n",
       " -1.0,\n",
       " -1.0,\n",
       " 1.0,\n",
       " -1.0,\n",
       " -1.0,\n",
       " 1.0,\n",
       " 1.0,\n",
       " 0.9779893159866333,\n",
       " -1.0,\n",
       " -1.0,\n",
       " 1.0,\n",
       " 1.0,\n",
       " -1.0,\n",
       " -1.0,\n",
       " 0.99998539686203,\n",
       " 1.0,\n",
       " -1.0,\n",
       " -1.0,\n",
       " -1.0,\n",
       " -0.982837438583374,\n",
       " 1.0,\n",
       " 1.0,\n",
       " 1.0,\n",
       " 1.0,\n",
       " 1.0,\n",
       " 1.0,\n",
       " -1.0,\n",
       " -1.0,\n",
       " -1.0,\n",
       " -1.0,\n",
       " 1.0,\n",
       " 0.999990701675415,\n",
       " 1.0,\n",
       " 1.0,\n",
       " 1.0,\n",
       " -1.0,\n",
       " -1.0,\n",
       " 1.0,\n",
       " 0.9999989867210388,\n",
       " 1.0,\n",
       " -1.0,\n",
       " -0.9999999403953552,\n",
       " -1.0,\n",
       " -1.0,\n",
       " -1.0,\n",
       " 1.0,\n",
       " 1.0,\n",
       " 1.0,\n",
       " 1.0,\n",
       " 1.0,\n",
       " 1.0,\n",
       " -1.0,\n",
       " -0.9999978542327881,\n",
       " 1.0,\n",
       " 0.9959537386894226,\n",
       " 0.9999999403953552,\n",
       " -1.0,\n",
       " 1.0,\n",
       " 0.9999998807907104,\n",
       " -1.0,\n",
       " 1.0,\n",
       " -1.0,\n",
       " 1.0,\n",
       " -1.0,\n",
       " -1.0,\n",
       " 1.0,\n",
       " 1.0,\n",
       " 1.0,\n",
       " -1.0,\n",
       " 1.0,\n",
       " -1.0,\n",
       " 1.0]"
      ]
     },
     "execution_count": 39,
     "metadata": {},
     "output_type": "execute_result"
    }
   ],
   "source": [
    "h.view(-1).tolist()"
   ]
  },
  {
   "cell_type": "code",
   "execution_count": 40,
   "metadata": {},
   "outputs": [
    {
     "data": {
      "text/plain": [
       "<matplotlib.image.AxesImage at 0x123d90910>"
      ]
     },
     "execution_count": 40,
     "metadata": {},
     "output_type": "execute_result"
    },
    {
     "data": {
      "image/png": "[encoded data removed]",
      "text/plain": [
       "<Figure size 2000x1000 with 1 Axes>"
      ]
     },
     "metadata": {},
     "output_type": "display_data"
    }
   ],
   "source": [
    "plt.figure(figsize=(20,10)) #if all the values are zero weight and biases never learn means it is a dead neuron\n",
    "plt.imshow(h.abs() > 0.99, cmap='gray', interpolation='nearest')"
   ]
  },
  {
   "cell_type": "code",
   "execution_count": 41,
   "metadata": {},
   "outputs": [
    {
     "data": {
      "image/png": "[encoded data removed]",
      "text/plain": [
       "<Figure size 640x480 with 1 Axes>"
      ]
     },
     "metadata": {},
     "output_type": "display_data"
    }
   ],
   "source": [
    "plt.hist(h.view(-1).tolist(),50); # most of the tanh values are -1 and 1 which in turn kills the gradient during back propagation if the tanh values\n",
    "# are zero the gradient gets passed directly without doing anything. Since the values are in top or at the tail of the tanh when it is -1 and 1\n",
    "# the value gets quashed. How much gets quashed depends upon how far it is on the tail or top \n",
    "# watch micrograd backward function to understand this better"
   ]
  },
  {
   "cell_type": "code",
   "execution_count": 42,
   "metadata": {},
   "outputs": [
    {
     "data": {
      "text/plain": [
       "(array([  1.,   0.,   0.,   0.,   1.,   1.,   1.,   7.,   7.,  13.,  27.,\n",
       "         34.,  56.,  80.,  92., 152., 206., 195., 286., 309., 344., 394.,\n",
       "        380., 446., 454., 441., 392., 386., 325., 273., 272., 205., 147.,\n",
       "        124., 106.,  78.,  50.,  39.,  23.,  21.,  12.,   4.,   3.,   5.,\n",
       "          3.,   0.,   0.,   0.,   0.,   5.]),\n",
       " array([-233.09983826, -223.29486298, -213.4898877 , -203.68491241,\n",
       "        -193.87993713, -184.07496185, -174.26998657, -164.46501129,\n",
       "        -154.66003601, -144.85506073, -135.05008545, -125.24511017,\n",
       "        -115.44013489, -105.63515961,  -95.83018433,  -86.02520905,\n",
       "         -76.22023376,  -66.41525848,  -56.6102832 ,  -46.80530792,\n",
       "         -37.00033264,  -27.19535736,  -17.39038208,   -7.5854068 ,\n",
       "           2.21956848,   12.02454376,   21.82951904,   31.63449432,\n",
       "          41.4394696 ,   51.24444489,   61.04942017,   70.85439545,\n",
       "          80.65937073,   90.46434601,  100.26932129,  110.07429657,\n",
       "         119.87927185,  129.68424713,  139.48922241,  149.29419769,\n",
       "         159.09917297,  168.90414825,  178.70912354,  188.51409882,\n",
       "         198.3190741 ,  208.12404938,  217.92902466,  227.73399994,\n",
       "         237.53897522,  247.3439505 ,  257.14892578]),\n",
       " <BarContainer object of 50 artists>)"
      ]
     },
     "execution_count": 42,
     "metadata": {},
     "output_type": "execute_result"
    },
    {
     "data": {
      "image/png": "[encoded data removed]",
      "text/plain": [
       "<Figure size 640x480 with 1 Axes>"
      ]
     },
     "metadata": {},
     "output_type": "display_data"
    }
   ],
   "source": [
    "plt.hist(hpreact.view(-1).tolist(),50) # the values are quite broader"
   ]
  },
  {
   "cell_type": "code",
   "execution_count": 43,
   "metadata": {},
   "outputs": [
    {
     "name": "stdout",
     "output_type": "stream",
     "text": [
      "tensor(-0.0058) tensor(0.9950)\n",
      "tensor(-0.0002) tensor(1.0016)\n"
     ]
    },
    {
     "data": {
      "text/plain": [
       "(array([2.11207669e-05, 0.00000000e+00, 0.00000000e+00, 2.11207669e-05,\n",
       "        2.11207669e-05, 1.05603835e-04, 1.05603835e-04, 3.80173805e-04,\n",
       "        4.01294572e-04, 6.75864542e-04, 9.29313745e-04, 1.98535209e-03,\n",
       "        3.29483964e-03, 5.13234637e-03, 9.20865439e-03, 1.57772129e-02,\n",
       "        2.30638775e-02, 3.45535747e-02, 5.48717525e-02, 8.34270294e-02,\n",
       "        1.20409492e-01, 1.66727334e-01, 2.28294370e-01, 2.96451085e-01,\n",
       "        3.60890545e-01, 4.07482957e-01, 4.33799432e-01, 4.26681734e-01,\n",
       "        3.79497940e-01, 3.19071426e-01, 2.50893591e-01, 1.89284313e-01,\n",
       "        1.35595324e-01, 9.48533643e-02, 6.34256631e-02, 4.37622291e-02,\n",
       "        2.85763977e-02, 1.70233382e-02, 1.00323643e-02, 6.63192082e-03,\n",
       "        4.41424029e-03, 2.70345817e-03, 1.68966136e-03, 7.81468377e-04,\n",
       "        5.91381474e-04, 3.80173805e-04, 1.26724602e-04, 4.22415339e-05,\n",
       "        2.11207669e-05, 4.22415339e-05]),\n",
       " array([-6.31793737, -6.08120355, -5.84446972, -5.60773589, -5.37100206,\n",
       "        -5.13426824, -4.89753441, -4.66080058, -4.42406675, -4.18733293,\n",
       "        -3.9505991 , -3.71386527, -3.47713144, -3.24039762, -3.00366379,\n",
       "        -2.76692996, -2.53019613, -2.29346231, -2.05672848, -1.81999465,\n",
       "        -1.58326082, -1.34652699, -1.10979317, -0.87305934, -0.63632551,\n",
       "        -0.39959168, -0.16285786,  0.07387597,  0.3106098 ,  0.54734363,\n",
       "         0.78407745,  1.02081128,  1.25754511,  1.49427894,  1.73101276,\n",
       "         1.96774659,  2.20448042,  2.44121425,  2.67794807,  2.9146819 ,\n",
       "         3.15141573,  3.38814956,  3.62488338,  3.86161721,  4.09835104,\n",
       "         4.33508487,  4.5718187 ,  4.80855252,  5.04528635,  5.28202018,\n",
       "         5.51875401]),\n",
       " <BarContainer object of 50 artists>)"
      ]
     },
     "execution_count": 43,
     "metadata": {},
     "output_type": "execute_result"
    },
    {
     "data": {
      "image/png": "[encoded data removed]",
      "text/plain": [
       "<Figure size 2000x500 with 2 Axes>"
      ]
     },
     "metadata": {},
     "output_type": "display_data"
    }
   ],
   "source": [
    "x = torch.randn(1000,10)\n",
    "w = torch.randn(10,200) /10**0.5 # root over fan_in/input. since tanh and relu squeezes in if the value are -ve or +ve so to boost the values \n",
    "# to make the std deviation as gaussian distribution\n",
    "y = x @ w\n",
    "print(x.mean(), x.std())\n",
    "print(y.mean(), y.std())\n",
    "plt.figure(figsize=(20,5))\n",
    "plt.subplot(121)\n",
    "plt.hist(x.view(-1).tolist(), 50, density=True)\n",
    "plt.subplot(122)\n",
    "plt.hist(y.view(-1).tolist(), 50, density=True)"
   ]
  },
  {
   "cell_type": "code",
   "execution_count": 44,
   "metadata": {},
   "outputs": [
    {
     "data": {
      "text/plain": [
       "torch.Size([32, 200])"
      ]
     },
     "execution_count": 44,
     "metadata": {},
     "output_type": "execute_result"
    }
   ],
   "source": [
    "hpreact.shape"
   ]
  },
  {
   "cell_type": "code",
   "execution_count": 45,
   "metadata": {},
   "outputs": [
    {
     "data": {
      "text/plain": [
       "torch.Size([1, 200])"
      ]
     },
     "execution_count": 45,
     "metadata": {},
     "output_type": "execute_result"
    }
   ],
   "source": [
    "hpreact.mean(0, keepdim=True).shape"
   ]
  },
  {
   "cell_type": "code",
   "execution_count": 46,
   "metadata": {},
   "outputs": [
    {
     "data": {
      "text/plain": [
       "torch.Size([1, 200])"
      ]
     },
     "execution_count": 46,
     "metadata": {},
     "output_type": "execute_result"
    }
   ],
   "source": [
    "hpreact.std(0, keepdim=True).shape"
   ]
  },
  {
   "cell_type": "code",
   "execution_count": 47,
   "metadata": {},
   "outputs": [
    {
     "data": {
      "text/plain": [
       "tensor([[-22.0596,   5.4846, -62.6702,  20.3101,  23.5537,  31.4836,  44.8540,\n",
       "         -30.1119,  -0.2477,  18.5064, -30.8401, -51.9340,  16.8937, -12.6184,\n",
       "           8.1357,  39.4107,  41.4595, -33.9596, -16.0346,  31.4723,  23.6383,\n",
       "          -4.8234,  -8.3356,  15.0444,   9.0332,  29.4352,  24.1073,  -0.8950,\n",
       "          -3.3454,  41.4099,  -2.5185, -37.7088,  11.9481,   7.9834,  -0.2712,\n",
       "         -12.7195, -27.0202, -19.0378,   1.1521,  29.8906,  13.7051, -24.2856,\n",
       "         -23.5861,  14.3501,  27.7544,   1.9178,  11.1421,  -7.7575,  27.8659,\n",
       "          36.0394,  17.1502,  22.6517,  46.3052,  57.5195,  35.8778, -45.4140,\n",
       "           4.4884,   4.3883,  29.0270, -34.1584, -11.0401,   4.2078,   8.8016,\n",
       "          21.8998,  31.6522,  35.2233,   8.6634,  26.6341,  -4.2822, -19.1248,\n",
       "           9.2323,  17.5012,  23.9642, -32.8915, -35.8425,  10.0709,  21.6990,\n",
       "           5.4845,  35.3624, -13.9058,  45.2416,  30.6866,  36.7135,   8.0243,\n",
       "           5.6402, -17.7538, -60.9668,  14.0301,  38.7336,   0.8934,   1.3044,\n",
       "          24.6428,  12.3491,   3.8699,  18.5877,   3.4103, -14.5328,   8.0922,\n",
       "          10.0659, -35.0890,   8.2119,   3.9404, -53.8111,  23.5169,  24.7776,\n",
       "           3.5833, -32.9591,  -3.0863,  34.7246, -19.8722,  25.4516,   5.0212,\n",
       "          -1.8867,  62.3286,  35.4829,  41.3539,   6.8045,   4.3707, -13.1228,\n",
       "          -9.0982, -13.0974, -56.8790,  22.1733,  35.6425, -16.8625, -10.0033,\n",
       "          11.7858, -23.2063, -22.8460, -29.6212,  29.9649,  -6.1943,  19.0674,\n",
       "          -9.1840,   3.0425,  -0.4875,   7.2864,  26.9019,  16.7862,   1.7834,\n",
       "          26.0176,  13.0265,  31.1064,  -7.5914,  64.4488,  20.4514,  33.1423,\n",
       "           6.4515,  17.6932,   5.4924, -30.4002,   4.8219,  24.9523,  45.9812,\n",
       "          27.7886, -23.9358,  23.3169,  -3.7487, -43.1567,   6.1330,  10.9711,\n",
       "          -8.9616,   6.3463, -56.9551,  -0.3094, -15.4566,  -8.6075,  -6.2630,\n",
       "         -38.6619,  -5.6403,  15.8703, -10.8053,  23.2170,  -5.1670,  -3.2717,\n",
       "          17.3883,  50.1987,  -6.8823,  24.6959, -14.2511,  26.1130,  11.6304,\n",
       "           5.6545,  -6.6594,   4.0827,  23.7933,  -3.1169,  -4.5672,  73.3460,\n",
       "          44.5107,   6.1792,  57.7168,  -4.0299,   9.7478, -10.1925,  42.7372,\n",
       "          66.5458,  -9.2041,   6.7410,  -0.9357]])"
      ]
     },
     "execution_count": 47,
     "metadata": {},
     "output_type": "execute_result"
    }
   ],
   "source": [
    "bnmean"
   ]
  },
  {
   "cell_type": "code",
   "execution_count": 48,
   "metadata": {},
   "outputs": [
    {
     "data": {
      "text/plain": [
       "tensor([[-22.5811, -10.4260, -56.7904,  18.4928,  29.7907,  26.0880,  54.9029,\n",
       "         -34.9429, -12.4293,  35.3455, -37.2306, -57.5386,   9.1594, -12.1487,\n",
       "           8.4151,  26.0280,  24.1507, -47.3922, -29.8536,  30.4629,  20.7248,\n",
       "         -22.7562, -22.6633,  23.5409,  17.7845,  28.2846,  22.8238, -16.3592,\n",
       "           5.6595,  46.8640, -21.0371, -28.7480,   7.8628,  16.7969, -17.1901,\n",
       "         -17.9569, -16.7265, -31.0500,  -2.7141,  32.5917,  13.0234, -25.3962,\n",
       "         -32.8821,   8.2684,  13.0761,  -0.4456,  12.4373, -10.5195,  26.2846,\n",
       "          49.0939,  18.0780,  21.8437,  50.8911,  62.8226,  32.8864, -43.0815,\n",
       "         -14.7344,  19.9511,  47.8200, -42.1705, -10.8003,  15.4173,  16.9474,\n",
       "          15.5196,  44.2818,  13.3642,  21.3780,  30.3177,  -8.9638, -13.9704,\n",
       "           0.6724,  27.5038,  28.2536, -32.3938, -40.1963,  10.3958,  34.8953,\n",
       "          -2.0728,  31.7286,  -7.4178,  36.6058,  50.3986,  47.4814,   4.6075,\n",
       "          13.6400, -25.7226, -55.3476,   7.2988,  41.1977, -10.5582,  -7.6725,\n",
       "          36.4824, -13.2837, -10.2123,   1.6908,  -3.3627, -25.6711,  -6.4236,\n",
       "          10.5216, -41.1844,  -5.6517,   4.7014, -54.5799,  20.2517,  31.5901,\n",
       "          18.5944, -45.2306, -16.6882,  40.0380, -12.3825,  28.7587,  25.9375,\n",
       "          -3.4024,  57.9776,  34.6457,  40.9670,  14.5866,  14.4185,  -1.8589,\n",
       "          -3.7652, -17.2982, -40.1932,  19.6372,  37.2121, -24.4845,   4.0288,\n",
       "           9.1056, -29.9625, -22.5407, -26.0185,  42.6368, -10.5925,  11.2011,\n",
       "          -0.4494,   0.2591,   4.2575,   6.9895,  15.9789,  20.6381,  14.7947,\n",
       "          23.8923,   1.2250,  20.5943,  -0.4742,  60.1353,  16.9313,  22.2189,\n",
       "          12.9304,  25.1340,  -1.0629, -27.6456,  15.6822,  31.5587,  39.8392,\n",
       "          29.6071, -23.8586,  35.4974, -17.7788, -40.5254,  12.2645,  22.0220,\n",
       "          -6.3828,  10.9007, -70.7860, -10.2803,  -7.3854,   3.8778,  -9.3511,\n",
       "         -33.9233,  -8.6868,  16.7212, -13.6668,  17.9014,  -6.2223,   0.8987,\n",
       "          17.0484,  59.7874, -16.6609,  19.9984, -35.1880,  23.7935,  23.5430,\n",
       "           5.5829,  -6.4646,   6.3602,  19.4337,   6.1674,  -4.5075,  81.8073,\n",
       "          33.1188,   3.5563,  38.8989,   0.1766,  23.6653, -14.6433,  35.7658,\n",
       "          68.8149, -13.2416,  -8.4658,   5.9038]])"
      ]
     },
     "execution_count": 48,
     "metadata": {},
     "output_type": "execute_result"
    }
   ],
   "source": [
    "bnmean_running"
   ]
  },
  {
   "cell_type": "code",
   "execution_count": null,
   "metadata": {},
   "outputs": [],
   "source": []
  }
 ],
 "metadata": {
  "kernelspec": {
   "display_name": "Python 3",
   "language": "python",
   "name": "python3"
  },
  "language_info": {
   "codemirror_mode": {
    "name": "ipython",
    "version": 3
   },
   "file_extension": ".py",
   "mimetype": "text/x-python",
   "name": "python",
   "nbconvert_exporter": "python",
   "pygments_lexer": "ipython3",
   "version": "3.10.0"
  }
 },
 "nbformat": 4,
 "nbformat_minor": 2
}
